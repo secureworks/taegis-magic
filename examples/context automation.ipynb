{
 "cells": [
  {
   "cell_type": "markdown",
   "metadata": {},
   "source": [
    "### Imports"
   ]
  },
  {
   "cell_type": "code",
   "execution_count": null,
   "metadata": {},
   "outputs": [],
   "source": [
    "import pandas as pd\n",
    "\n",
    "pd.set_option(\"display.max_rows\", None)\n",
    "pd.set_option(\"display.max_colwidth\", None)\n",
    "\n",
    "from taegis_magic.pandas.context import (\n",
    "    normalize_entities,\n",
    "    relate_entities,\n",
    "    generate_context_queries,\n",
    "    display_facets,\n",
    "    add_threat_intel,\n",
    "    get_ti_pubs,\n",
    ")\n",
    "\n",
    "%load_ext taegis_magic"
   ]
  },
  {
   "cell_type": "markdown",
   "metadata": {},
   "source": [
    "### Set Context for Queries"
   ]
  },
  {
   "cell_type": "code",
   "execution_count": null,
   "metadata": {},
   "outputs": [],
   "source": [
    "GROUP_BY = \"@user\"  # or @ip/@domain/@hash/@host\n",
    "REGION = \"charlie\"  # or delta/echo/foxtrot\n",
    "TENANT = \"00000\""
   ]
  },
  {
   "cell_type": "markdown",
   "metadata": {},
   "source": [
    "### Search Entrypoint"
   ]
  },
  {
   "cell_type": "code",
   "execution_count": null,
   "metadata": {},
   "outputs": [],
   "source": [
    "%%taegis alerts search --region $REGION --tenant $TENANT --assign alerts_dataframe\n",
    "FROM alert\n",
    "WHERE\n",
    "    metadata.creator.detector.detector_id = 'app:event-filter' AND\n",
    "    metadata.title != 'AWS - GetCredentialReport'\n",
    "EARLIEST=-7d"
   ]
  },
  {
   "cell_type": "markdown",
   "metadata": {},
   "source": [
    "### Normalize and Relate Entities"
   ]
  },
  {
   "cell_type": "code",
   "execution_count": null,
   "metadata": {},
   "outputs": [],
   "source": [
    "entities_df = alerts_dataframe.pipe(normalize_entities).pipe(relate_entities)\n",
    "entities_df = entities_df[\n",
    "    entities_df[\"taegis_magic.entities.field\"] == GROUP_BY\n",
    "].reset_index(drop=True)\n",
    "entities_df[\n",
    "    [\n",
    "        \"tenant.id\",\n",
    "        \"metadata.title\",\n",
    "        \"taegis_magic.entities.field\",\n",
    "        \"taegis_magic.entities.value\",\n",
    "    ]\n",
    "    + [\n",
    "        column\n",
    "        for column in entities_df.columns\n",
    "        if column.startswith(\"@\") and column != GROUP_BY\n",
    "    ]\n",
    "]"
   ]
  },
  {
   "cell_type": "markdown",
   "metadata": {},
   "source": [
    "### Generate Context Search Queries based on Entities"
   ]
  },
  {
   "cell_type": "code",
   "execution_count": null,
   "metadata": {
    "scrolled": true
   },
   "outputs": [],
   "source": [
    "entities_df = entities_df.pipe(\n",
    "    generate_context_queries,\n",
    ")\n",
    "entities_df[\n",
    "    [\n",
    "        \"taegis_magic.open_alerts_query\",\n",
    "        \"taegis_magic.resolved_alerts_query\",\n",
    "        \"taegis_magic.investigations_query\",\n",
    "        \"taegis_magic.events_query\",\n",
    "    ]\n",
    "]"
   ]
  },
  {
   "cell_type": "code",
   "execution_count": null,
   "metadata": {
    "scrolled": true
   },
   "outputs": [],
   "source": [
    "entity_queries = {}\n",
    "\n",
    "for _, row in entities_df[\n",
    "    [\n",
    "        \"taegis_magic.entities.value\",\n",
    "        \"taegis_magic.open_alerts_query\",\n",
    "        \"taegis_magic.resolved_alerts_query\",\n",
    "        \"taegis_magic.investigations_query\",\n",
    "        \"taegis_magic.events_query\",\n",
    "    ]\n",
    "].iterrows():\n",
    "    # setup\n",
    "    entity = row[\"taegis_magic.entities.value\"]\n",
    "    open_alerts_query = row[\"taegis_magic.open_alerts_query\"]\n",
    "    resolved_alerts_query = row[\"taegis_magic.resolved_alerts_query\"]\n",
    "    investigations_query = row[\"taegis_magic.investigations_query\"]\n",
    "    events_query = row[\"taegis_magic.events_query\"]\n",
    "\n",
    "    # run queries\n",
    "    %taegis alerts search --assign open_alerts --region $REGION --tenant $TENANT --cell \"$open_alerts_query\"\n",
    "    %taegis alerts search --assign resolved_alerts --region $REGION --tenant $TENANT --cell \"$resolved_alerts_query\"\n",
    "    %taegis alerts search --assign investigations --region $REGION --tenant $TENANT --cell \"$investigations_query\"\n",
    "    %taegis events search --assign events --region $REGION --tenant $TENANT --cell \"$events_query\"\n",
    "\n",
    "    # relate back to entity\n",
    "    entity_queries[entity] = {}\n",
    "    entity_queries[entity][\"open_alerts\"] = open_alerts\n",
    "    entity_queries[entity][\"resolved_alerts\"] = resolved_alerts\n",
    "    entity_queries[entity][\"investigations\"] = investigations\n",
    "    entity_queries[entity][\"events\"] = events"
   ]
  },
  {
   "cell_type": "code",
   "execution_count": null,
   "metadata": {
    "editable": true,
    "slideshow": {
     "slide_type": ""
    },
    "tags": []
   },
   "outputs": [],
   "source": [
    "# correlate threat intel\n",
    "# new correlations can be added as a custom callable\n",
    "for entity in entity_queries:\n",
    "    for query in entity_queries[entity]:\n",
    "        print(f\"Trying {entity}, {query}...\")\n",
    "        entity_queries[entity][query] = entity_queries[entity][query].pipe(\n",
    "            add_threat_intel,\n",
    "            correlations=[get_ti_pubs],\n",
    "            tenant.id=TENANT,\n",
    "            region=REGION,\n",
    "        )"
   ]
  },
  {
   "cell_type": "markdown",
   "metadata": {},
   "source": [
    "### Display Results"
   ]
  },
  {
   "cell_type": "code",
   "execution_count": null,
   "metadata": {
    "editable": true,
    "scrolled": true,
    "slideshow": {
     "slide_type": ""
    },
    "tags": []
   },
   "outputs": [],
   "source": [
    "display_facets(entity_queries, additional_columns=[\"tips.found\"])"
   ]
  },
  {
   "cell_type": "code",
   "execution_count": null,
   "metadata": {
    "editable": true,
    "slideshow": {
     "slide_type": ""
    },
    "tags": []
   },
   "outputs": [],
   "source": []
  }
 ],
 "metadata": {
  "kernelspec": {
   "display_name": "Python 3 (ipykernel)",
   "language": "python",
   "name": "python3"
  },
  "language_info": {
   "codemirror_mode": {
    "name": "ipython",
    "version": 3
   },
   "file_extension": ".py",
   "mimetype": "text/x-python",
   "name": "python",
   "nbconvert_exporter": "python",
   "pygments_lexer": "ipython3",
   "version": "3.9.2"
  }
 },
 "nbformat": 4,
 "nbformat_minor": 4
}
