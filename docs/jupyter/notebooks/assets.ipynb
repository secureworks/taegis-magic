{
 "cells": [
  {
   "cell_type": "markdown",
   "metadata": {},
   "source": [
    "# Taegis Magic\n",
    "---"
   ]
  },
  {
   "cell_type": "markdown",
   "metadata": {},
   "source": [
    "## Assets\n",
    "---"
   ]
  },
  {
   "cell_type": "code",
   "execution_count": null,
   "metadata": {},
   "outputs": [],
   "source": [
    "import pandas as pd\n",
    "from taegis_magic.pandas.alerts import inflate_raw_events\n",
    "from taegis_magic.pandas.assets import lookup_assets"
   ]
  },
  {
   "cell_type": "code",
   "execution_count": null,
   "metadata": {},
   "outputs": [],
   "source": [
    "%load_ext taegis_magic.magics"
   ]
  },
  {
   "cell_type": "markdown",
   "metadata": {},
   "source": [
    "### `lookup_assets` pipe function\n",
    "---\n",
    "\n",
    "This pandas pipe function will work when there are the following columns in the DataFrame:\n",
    "- A column name that contains `host_id`\n",
    "- A column name that contains `tenant.id`\n",
    "- The region/environment the lookups are taking place"
   ]
  },
  {
   "cell_type": "markdown",
   "metadata": {},
   "source": [
    "#### Asset Data with Taegis Alerts\n",
    "\n",
    "**Note:** When working with an alert data dataframe, you will need to use the `inflate_raw_events` pipe function in order to obtain the `event_data.host_id` column."
   ]
  },
  {
   "cell_type": "code",
   "execution_count": null,
   "metadata": {},
   "outputs": [],
   "source": [
    "%%taegis alerts search --assign alerts_df\n",
    "\n",
    "FROM alert\n",
    "WHERE severity >= 0.6 AND\n",
    "sensor_types CONTAINS 'ENDPOINT'\n",
    "EARLIEST=-1d\n",
    "| head 100"
   ]
  },
  {
   "cell_type": "code",
   "execution_count": null,
   "metadata": {},
   "outputs": [],
   "source": [
    "inflated_alerts = (\n",
    "    alerts_df\n",
    "    .pipe(inflate_raw_events)\n",
    ")\n",
    "\n",
    "inflated_alerts.head(30)[[\n",
    "    'metadata.title',\n",
    "    'sensor_types',\n",
    "    'event_data.host_id'\n",
    "]]"
   ]
  },
  {
   "cell_type": "code",
   "execution_count": null,
   "metadata": {},
   "outputs": [],
   "source": [
    "alerts_with_asset_info = (\n",
    "    inflated_alerts\n",
    "    .pipe(lookup_assets, env='charlie')\n",
    ")"
   ]
  },
  {
   "cell_type": "code",
   "execution_count": null,
   "metadata": {},
   "outputs": [],
   "source": [
    "(\n",
    "    alerts_with_asset_info\n",
    "    .drop_duplicates('asset_info.hostname')\n",
    "    [[\n",
    "        'metadata.title',\n",
    "        'sensor_types',\n",
    "        'asset_info.hostname',\n",
    "    ]]\n",
    ")"
   ]
  },
  {
   "cell_type": "markdown",
   "metadata": {},
   "source": [
    "#### Asset Data with Taegis Events\n",
    "\n",
    "- Unlike Alert DataFrames, Taegis Event DataFrames only need the `tenant.id` and `host_id` fields"
   ]
  },
  {
   "cell_type": "code",
   "execution_count": null,
   "metadata": {},
   "outputs": [],
   "source": [
    "%%taegis events search --assign events_df\n",
    "\n",
    "FROM process\n",
    "EARLIEST=-30d\n",
    "| head 10"
   ]
  },
  {
   "cell_type": "code",
   "execution_count": null,
   "metadata": {},
   "outputs": [],
   "source": [
    "(\n",
    "    events_df\n",
    "    [[\n",
    "        'enrichSummary',\n",
    "        'host_id',\n",
    "        'tenant.id'\n",
    "    ]]\n",
    ")"
   ]
  },
  {
   "cell_type": "code",
   "execution_count": null,
   "metadata": {},
   "outputs": [],
   "source": [
    "events_with_asset_info = (\n",
    "    events_df\n",
    "    .pipe(lookup_assets, env='charlie')    \n",
    ")"
   ]
  },
  {
   "cell_type": "code",
   "execution_count": null,
   "metadata": {},
   "outputs": [],
   "source": [
    "(\n",
    "    events_with_asset_info\n",
    "    [[\n",
    "        'enrichSummary',\n",
    "        'asset_info.hostname'\n",
    "    ]]\n",
    ")"
   ]
  }
 ],
 "metadata": {
  "celltoolbar": "Edit Metadata",
  "kernelspec": {
   "display_name": "Python 3 (ipykernel)",
   "language": "python",
   "name": "python3"
  },
  "language_info": {
   "codemirror_mode": {
    "name": "ipython",
    "version": 3
   },
   "file_extension": ".py",
   "mimetype": "text/x-python",
   "name": "python",
   "nbconvert_exporter": "python",
   "pygments_lexer": "ipython3",
   "version": "3.11.4"
  }
 },
 "nbformat": 4,
 "nbformat_minor": 2
}
